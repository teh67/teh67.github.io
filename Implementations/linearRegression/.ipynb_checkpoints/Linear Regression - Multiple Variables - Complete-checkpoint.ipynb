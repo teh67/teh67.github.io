{
 "cells": [
  {
   "cell_type": "markdown",
   "metadata": {},
   "source": [
    "## We've already seen how to implement a linear regression where we used a single variable to predict the value of another related variable. In the case where we want to predict the value of a variable using more than one variable as input then we need to use matrices.\n",
    "\n",
    "In this notebook we'll implement a multivariate linear regression. Here we'll only cover continuous covariate variables but the method works identically if we used categorical covariates - it just requires us to do some extra processing before fitting the model!"
   ]
  },
  {
   "cell_type": "code",
   "execution_count": 2,
   "metadata": {},
   "outputs": [],
   "source": [
    "import numpy as np\n",
    "import pandas as pd\n",
    "import matplotlib.pyplot as plt\n",
    "from sklearn.model_selection import train_test_split"
   ]
  },
  {
   "cell_type": "markdown",
   "metadata": {},
   "source": [
    "# Generate data for multivariate regression"
   ]
  },
  {
   "cell_type": "code",
   "execution_count": 4,
   "metadata": {},
   "outputs": [
    {
     "name": "stdout",
     "output_type": "stream",
     "text": [
      "[-7.09984528  8.25922056 -8.4198225   7.45683321  6.67294297]\n"
     ]
    }
   ],
   "source": [
    "n = 1000 #Number of observations in the training set\n",
    "p = 5 #Number of parameters, including intercept\n",
    "\n",
    "#Assign True parameters to be estimated\n",
    "beta = np.random.uniform(-10, 10, p) #Randomly initialise true parameters\n",
    "print(beta)"
   ]
  },
  {
   "cell_type": "code",
   "execution_count": 29,
   "metadata": {},
   "outputs": [],
   "source": [
    "X = np.random.uniform(0,10,(n,(p-1))) \n",
    "X0 = np.array([1]*n).reshape((n,1)) #Columns for intercept\n",
    "\n",
    "X = np.concatenate([X0,X], axis = 1) #Join intercept to other variables to form feature matrix\n"
   ]
  },
  {
   "cell_type": "code",
   "execution_count": 30,
   "metadata": {},
   "outputs": [],
   "source": [
    "Y = np.matmul(X,beta) + np.random.normal(0,10,n) #Linear combination of the features plus a normal error term"
   ]
  },
  {
   "cell_type": "code",
   "execution_count": 42,
   "metadata": {},
   "outputs": [],
   "source": [
    "#Concatenate to create dataframe\n",
    "\n",
    "dataFeatures = pd.DataFrame(X)\n",
    "dataFeatures.columns = [f'X{i}' for i in range(p)]\n",
    "\n",
    "dataTarget = pd.DataFrame(Y)\n",
    "dataTarget.columns = ['Y']\n",
    "\n",
    "data = pd.concat([dataFeatures, dataTarget], axis = 1)\n"
   ]
  },
  {
   "cell_type": "code",
   "execution_count": 43,
   "metadata": {},
   "outputs": [
    {
     "data": {
      "text/html": [
       "<div>\n",
       "<style scoped>\n",
       "    .dataframe tbody tr th:only-of-type {\n",
       "        vertical-align: middle;\n",
       "    }\n",
       "\n",
       "    .dataframe tbody tr th {\n",
       "        vertical-align: top;\n",
       "    }\n",
       "\n",
       "    .dataframe thead th {\n",
       "        text-align: right;\n",
       "    }\n",
       "</style>\n",
       "<table border=\"1\" class=\"dataframe\">\n",
       "  <thead>\n",
       "    <tr style=\"text-align: right;\">\n",
       "      <th></th>\n",
       "      <th>X0</th>\n",
       "      <th>X1</th>\n",
       "      <th>X2</th>\n",
       "      <th>X3</th>\n",
       "      <th>X4</th>\n",
       "      <th>Y</th>\n",
       "    </tr>\n",
       "  </thead>\n",
       "  <tbody>\n",
       "    <tr>\n",
       "      <th>0</th>\n",
       "      <td>1.0</td>\n",
       "      <td>0.531355</td>\n",
       "      <td>1.111638</td>\n",
       "      <td>9.473766</td>\n",
       "      <td>6.875483</td>\n",
       "      <td>85.750414</td>\n",
       "    </tr>\n",
       "    <tr>\n",
       "      <th>1</th>\n",
       "      <td>1.0</td>\n",
       "      <td>0.996607</td>\n",
       "      <td>7.793898</td>\n",
       "      <td>9.832115</td>\n",
       "      <td>1.904524</td>\n",
       "      <td>14.828393</td>\n",
       "    </tr>\n",
       "    <tr>\n",
       "      <th>2</th>\n",
       "      <td>1.0</td>\n",
       "      <td>7.740204</td>\n",
       "      <td>5.393620</td>\n",
       "      <td>3.347660</td>\n",
       "      <td>8.847764</td>\n",
       "      <td>79.516442</td>\n",
       "    </tr>\n",
       "    <tr>\n",
       "      <th>3</th>\n",
       "      <td>1.0</td>\n",
       "      <td>7.874524</td>\n",
       "      <td>7.749520</td>\n",
       "      <td>5.235252</td>\n",
       "      <td>2.501440</td>\n",
       "      <td>41.347483</td>\n",
       "    </tr>\n",
       "    <tr>\n",
       "      <th>4</th>\n",
       "      <td>1.0</td>\n",
       "      <td>0.478939</td>\n",
       "      <td>7.113477</td>\n",
       "      <td>7.851205</td>\n",
       "      <td>2.317979</td>\n",
       "      <td>-3.574712</td>\n",
       "    </tr>\n",
       "  </tbody>\n",
       "</table>\n",
       "</div>"
      ],
      "text/plain": [
       "    X0        X1        X2        X3        X4          Y\n",
       "0  1.0  0.531355  1.111638  9.473766  6.875483  85.750414\n",
       "1  1.0  0.996607  7.793898  9.832115  1.904524  14.828393\n",
       "2  1.0  7.740204  5.393620  3.347660  8.847764  79.516442\n",
       "3  1.0  7.874524  7.749520  5.235252  2.501440  41.347483\n",
       "4  1.0  0.478939  7.113477  7.851205  2.317979  -3.574712"
      ]
     },
     "execution_count": 43,
     "metadata": {},
     "output_type": "execute_result"
    }
   ],
   "source": [
    "data.head()"
   ]
  },
  {
   "cell_type": "markdown",
   "metadata": {},
   "source": [
    "# The Algebra"
   ]
  },
  {
   "cell_type": "markdown",
   "metadata": {},
   "source": [
    "To fit a linear regression for a set of features $X$ and a set of targets $Y$, we compute the model parameters as:\n",
    "\n",
    "$$\\hat \\beta = (X^TX)^{-1}X^Ty$$\n",
    "\n",
    "$\\hat \\beta$ is a $p \\times 1$ vector where each element of the vector corresponds to the estimate of the true parameter which generated the data\n",
    "\n"
   ]
  },
  {
   "cell_type": "code",
   "execution_count": 70,
   "metadata": {},
   "outputs": [],
   "source": [
    "class LinearRegressionMultivariate:\n",
    "    \n",
    "    def __init__(self, data, target, features, trainTestRatio = 0.9):\n",
    "        #data - a pandas dataset \n",
    "        #target - the name of the pandas column which contains the true labels\n",
    "        #features - A list containing the names of the columns which we will use to do the regression\n",
    "        #trainTestRatio - the proportion of the entire dataset which we'll use for training\n",
    "                    #   - the rest will be used for testing\n",
    "        \n",
    "        self.target = target\n",
    "        self.features = features \n",
    "        \n",
    "        #Split up data into a training and testing set\n",
    "        self.train, self.test = train_test_split(data, test_size=1-trainTestRatio)\n",
    "    \n",
    "    \n",
    "        \n",
    "    def fitLR(self):\n",
    "        #Fit a linear regression to the training data\n",
    "        #Useful functions: np.matmul multiplies two matrices together, \n",
    "                          #np.transpose returns the transposition of a matrix\n",
    "                          #np.linalg.inv returns the inverse of a square matrix\n",
    "        \n",
    "        \n",
    "        \n",
    "        \n",
    "        #Rename train and test data to make the calculation less unpleasant to look at\n",
    "        #Change the data type from pandas dataframe to numpy array\n",
    "        X = np.array(self.train[self.features])\n",
    "        y = np.array(self.train[self.target])\n",
    "        \n",
    "        \n",
    "        #self.betaHat should contain the estimates for the parameters\n",
    "        #Simply a case of implementing the equation above - make sure the matrix dimensions for each term matches up!\n",
    "        self.betaHat = np.matmul(np.matmul(np.linalg.inv(np.matmul(np.transpose(X), X)), np.transpose(X)), y)\n",
    "        \n",
    "        return 0 #We've saved the parameter values as part of the class now\n",
    "    \n",
    "    def predict(self,x):\n",
    "        #Given a vector (or matrix) of new observations x, predict the corresponding target values\n",
    "        \n",
    "        #This can be done by multiplying x by betaHat\n",
    "        x = np.array(x).reshape((-1,p)) #Want to make sure that if we pass a list that we get the dimensions right\n",
    "        \n",
    "        prediction = np.matmul(x, self.betaHat)\n",
    "        return prediction\n",
    "    "
   ]
  },
  {
   "cell_type": "code",
   "execution_count": 71,
   "metadata": {},
   "outputs": [],
   "source": [
    "myModel = LinearRegressionMultivariate(data, 'Y', [f'X{i}' for i in range(p)])"
   ]
  },
  {
   "cell_type": "code",
   "execution_count": 72,
   "metadata": {},
   "outputs": [
    {
     "data": {
      "text/plain": [
       "0"
      ]
     },
     "execution_count": 72,
     "metadata": {},
     "output_type": "execute_result"
    }
   ],
   "source": [
    "myModel.fitLR()"
   ]
  },
  {
   "cell_type": "markdown",
   "metadata": {},
   "source": [
    "# Print the model estimates - there should be the right number (p) of them!"
   ]
  },
  {
   "cell_type": "code",
   "execution_count": 79,
   "metadata": {},
   "outputs": [
    {
     "name": "stdout",
     "output_type": "stream",
     "text": [
      "[-8.41357316  8.34390595 -8.33854128  7.52029667  6.64239119]\n",
      "(5,)\n"
     ]
    }
   ],
   "source": [
    "print(myModel.betaHat)\n",
    "print(myModel.betaHat.shape) #==p"
   ]
  },
  {
   "cell_type": "markdown",
   "metadata": {},
   "source": [
    "# Predict values for the test set"
   ]
  },
  {
   "cell_type": "code",
   "execution_count": 74,
   "metadata": {},
   "outputs": [],
   "source": [
    "testPred = myModel.predict(np.array(myModel.test[myModel.features]))"
   ]
  },
  {
   "cell_type": "code",
   "execution_count": 77,
   "metadata": {},
   "outputs": [
    {
     "data": {
      "image/png": "[encoded data removed]",
      "text/plain": [
       "<Figure size 432x288 with 1 Axes>"
      ]
     },
     "metadata": {
      "needs_background": "light"
     },
     "output_type": "display_data"
    }
   ],
   "source": [
    "plt.scatter(myModel.test[myModel.target], testPred)\n",
    "plt.xlabel = 'True test values'\n",
    "plt.ylabel = 'Predicted test values'\n",
    "plt.show()"
   ]
  },
  {
   "cell_type": "markdown",
   "metadata": {},
   "source": [
    "If the points roughly follow the line y = x then that's an indication the model is working well enough"
   ]
  }
 ],
 "metadata": {
  "kernelspec": {
   "display_name": "Python (cgvae)",
   "language": "python",
   "name": "cgvae"
  },
  "language_info": {
   "codemirror_mode": {
    "name": "ipython",
    "version": 3
   },
   "file_extension": ".py",
   "mimetype": "text/x-python",
   "name": "python",
   "nbconvert_exporter": "python",
   "pygments_lexer": "ipython3",
   "version": "3.7.5"
  }
 },
 "nbformat": 4,
 "nbformat_minor": 2
}
